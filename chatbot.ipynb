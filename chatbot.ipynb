{
  "nbformat": 4,
  "nbformat_minor": 0,
  "metadata": {
    "colab": {
      "provenance": []
    },
    "kernelspec": {
      "name": "python3",
      "display_name": "Python 3"
    },
    "language_info": {
      "name": "python"
    }
  },
  "cells": [
    {
      "cell_type": "code",
      "execution_count": null,
      "metadata": {
        "colab": {
          "base_uri": "https://localhost:8080/"
        },
        "id": "wEaCy5LUcdwU",
        "outputId": "bc53f065-8f2d-4745-fdb6-69ead9ed71fd"
      },
      "outputs": [
        {
          "output_type": "stream",
          "name": "stdout",
          "text": [
            "Requirement already satisfied: qdrant-client in /usr/local/lib/python3.10/dist-packages (1.11.1)\n",
            "Requirement already satisfied: grpcio>=1.41.0 in /usr/local/lib/python3.10/dist-packages (from qdrant-client) (1.66.1)\n",
            "Requirement already satisfied: grpcio-tools>=1.41.0 in /usr/local/lib/python3.10/dist-packages (from qdrant-client) (1.66.1)\n",
            "Requirement already satisfied: httpx>=0.20.0 in /usr/local/lib/python3.10/dist-packages (from httpx[http2]>=0.20.0->qdrant-client) (0.27.2)\n",
            "Requirement already satisfied: numpy>=1.21 in /usr/local/lib/python3.10/dist-packages (from qdrant-client) (1.26.4)\n",
            "Requirement already satisfied: portalocker<3.0.0,>=2.7.0 in /usr/local/lib/python3.10/dist-packages (from qdrant-client) (2.10.1)\n",
            "Requirement already satisfied: pydantic>=1.10.8 in /usr/local/lib/python3.10/dist-packages (from qdrant-client) (2.9.1)\n",
            "Requirement already satisfied: urllib3<3,>=1.26.14 in /usr/local/lib/python3.10/dist-packages (from qdrant-client) (2.0.7)\n",
            "Requirement already satisfied: protobuf<6.0dev,>=5.26.1 in /usr/local/lib/python3.10/dist-packages (from grpcio-tools>=1.41.0->qdrant-client) (5.28.1)\n",
            "Requirement already satisfied: setuptools in /usr/local/lib/python3.10/dist-packages (from grpcio-tools>=1.41.0->qdrant-client) (71.0.4)\n",
            "Requirement already satisfied: anyio in /usr/local/lib/python3.10/dist-packages (from httpx>=0.20.0->httpx[http2]>=0.20.0->qdrant-client) (3.7.1)\n",
            "Requirement already satisfied: certifi in /usr/local/lib/python3.10/dist-packages (from httpx>=0.20.0->httpx[http2]>=0.20.0->qdrant-client) (2024.8.30)\n",
            "Requirement already satisfied: httpcore==1.* in /usr/local/lib/python3.10/dist-packages (from httpx>=0.20.0->httpx[http2]>=0.20.0->qdrant-client) (1.0.5)\n",
            "Requirement already satisfied: idna in /usr/local/lib/python3.10/dist-packages (from httpx>=0.20.0->httpx[http2]>=0.20.0->qdrant-client) (3.8)\n",
            "Requirement already satisfied: sniffio in /usr/local/lib/python3.10/dist-packages (from httpx>=0.20.0->httpx[http2]>=0.20.0->qdrant-client) (1.3.1)\n",
            "Requirement already satisfied: h11<0.15,>=0.13 in /usr/local/lib/python3.10/dist-packages (from httpcore==1.*->httpx>=0.20.0->httpx[http2]>=0.20.0->qdrant-client) (0.14.0)\n",
            "Requirement already satisfied: h2<5,>=3 in /usr/local/lib/python3.10/dist-packages (from httpx[http2]>=0.20.0->qdrant-client) (4.1.0)\n",
            "Requirement already satisfied: annotated-types>=0.6.0 in /usr/local/lib/python3.10/dist-packages (from pydantic>=1.10.8->qdrant-client) (0.7.0)\n",
            "Requirement already satisfied: pydantic-core==2.23.3 in /usr/local/lib/python3.10/dist-packages (from pydantic>=1.10.8->qdrant-client) (2.23.3)\n",
            "Requirement already satisfied: typing-extensions>=4.6.1 in /usr/local/lib/python3.10/dist-packages (from pydantic>=1.10.8->qdrant-client) (4.12.2)\n",
            "Requirement already satisfied: hyperframe<7,>=6.0 in /usr/local/lib/python3.10/dist-packages (from h2<5,>=3->httpx[http2]>=0.20.0->qdrant-client) (6.0.1)\n",
            "Requirement already satisfied: hpack<5,>=4.0 in /usr/local/lib/python3.10/dist-packages (from h2<5,>=3->httpx[http2]>=0.20.0->qdrant-client) (4.0.0)\n",
            "Requirement already satisfied: exceptiongroup in /usr/local/lib/python3.10/dist-packages (from anyio->httpx>=0.20.0->httpx[http2]>=0.20.0->qdrant-client) (1.2.2)\n",
            "Requirement already satisfied: sentence-transformers in /usr/local/lib/python3.10/dist-packages (3.1.0)\n",
            "Requirement already satisfied: transformers<5.0.0,>=4.38.0 in /usr/local/lib/python3.10/dist-packages (from sentence-transformers) (4.44.2)\n",
            "Requirement already satisfied: tqdm in /usr/local/lib/python3.10/dist-packages (from sentence-transformers) (4.66.5)\n",
            "Requirement already satisfied: torch>=1.11.0 in /usr/local/lib/python3.10/dist-packages (from sentence-transformers) (2.4.0+cu121)\n",
            "Requirement already satisfied: numpy<2.0.0 in /usr/local/lib/python3.10/dist-packages (from sentence-transformers) (1.26.4)\n",
            "Requirement already satisfied: scikit-learn in /usr/local/lib/python3.10/dist-packages (from sentence-transformers) (1.3.2)\n",
            "Requirement already satisfied: scipy in /usr/local/lib/python3.10/dist-packages (from sentence-transformers) (1.13.1)\n",
            "Requirement already satisfied: huggingface-hub>=0.19.3 in /usr/local/lib/python3.10/dist-packages (from sentence-transformers) (0.24.6)\n",
            "Requirement already satisfied: Pillow in /usr/local/lib/python3.10/dist-packages (from sentence-transformers) (9.4.0)\n",
            "Requirement already satisfied: filelock in /usr/local/lib/python3.10/dist-packages (from huggingface-hub>=0.19.3->sentence-transformers) (3.16.0)\n",
            "Requirement already satisfied: fsspec>=2023.5.0 in /usr/local/lib/python3.10/dist-packages (from huggingface-hub>=0.19.3->sentence-transformers) (2024.6.1)\n",
            "Requirement already satisfied: packaging>=20.9 in /usr/local/lib/python3.10/dist-packages (from huggingface-hub>=0.19.3->sentence-transformers) (24.1)\n",
            "Requirement already satisfied: pyyaml>=5.1 in /usr/local/lib/python3.10/dist-packages (from huggingface-hub>=0.19.3->sentence-transformers) (6.0.2)\n",
            "Requirement already satisfied: requests in /usr/local/lib/python3.10/dist-packages (from huggingface-hub>=0.19.3->sentence-transformers) (2.32.3)\n",
            "Requirement already satisfied: typing-extensions>=3.7.4.3 in /usr/local/lib/python3.10/dist-packages (from huggingface-hub>=0.19.3->sentence-transformers) (4.12.2)\n",
            "Requirement already satisfied: sympy in /usr/local/lib/python3.10/dist-packages (from torch>=1.11.0->sentence-transformers) (1.13.2)\n",
            "Requirement already satisfied: networkx in /usr/local/lib/python3.10/dist-packages (from torch>=1.11.0->sentence-transformers) (3.3)\n",
            "Requirement already satisfied: jinja2 in /usr/local/lib/python3.10/dist-packages (from torch>=1.11.0->sentence-transformers) (3.1.4)\n",
            "Requirement already satisfied: regex!=2019.12.17 in /usr/local/lib/python3.10/dist-packages (from transformers<5.0.0,>=4.38.0->sentence-transformers) (2024.5.15)\n",
            "Requirement already satisfied: safetensors>=0.4.1 in /usr/local/lib/python3.10/dist-packages (from transformers<5.0.0,>=4.38.0->sentence-transformers) (0.4.5)\n",
            "Requirement already satisfied: tokenizers<0.20,>=0.19 in /usr/local/lib/python3.10/dist-packages (from transformers<5.0.0,>=4.38.0->sentence-transformers) (0.19.1)\n",
            "Requirement already satisfied: joblib>=1.1.1 in /usr/local/lib/python3.10/dist-packages (from scikit-learn->sentence-transformers) (1.4.2)\n",
            "Requirement already satisfied: threadpoolctl>=2.0.0 in /usr/local/lib/python3.10/dist-packages (from scikit-learn->sentence-transformers) (3.5.0)\n",
            "Requirement already satisfied: MarkupSafe>=2.0 in /usr/local/lib/python3.10/dist-packages (from jinja2->torch>=1.11.0->sentence-transformers) (2.1.5)\n",
            "Requirement already satisfied: charset-normalizer<4,>=2 in /usr/local/lib/python3.10/dist-packages (from requests->huggingface-hub>=0.19.3->sentence-transformers) (3.3.2)\n",
            "Requirement already satisfied: idna<4,>=2.5 in /usr/local/lib/python3.10/dist-packages (from requests->huggingface-hub>=0.19.3->sentence-transformers) (3.8)\n",
            "Requirement already satisfied: urllib3<3,>=1.21.1 in /usr/local/lib/python3.10/dist-packages (from requests->huggingface-hub>=0.19.3->sentence-transformers) (2.0.7)\n",
            "Requirement already satisfied: certifi>=2017.4.17 in /usr/local/lib/python3.10/dist-packages (from requests->huggingface-hub>=0.19.3->sentence-transformers) (2024.8.30)\n",
            "Requirement already satisfied: mpmath<1.4,>=1.1.0 in /usr/local/lib/python3.10/dist-packages (from sympy->torch>=1.11.0->sentence-transformers) (1.3.0)\n"
          ]
        }
      ],
      "source": [
        "!pip install qdrant-client\n",
        "!pip install sentence-transformers"
      ]
    },
    {
      "cell_type": "code",
      "source": [
        "from qdrant_client import QdrantClient\n",
        "\n",
        "client = QdrantClient(\n",
        "    url=\"https://0ed5ff2c-d055-4459-aa08-8ff72d9a4f29.europe-west3-0.gcp.cloud.qdrant.io\",\n",
        "    api_key=\"UImA32LIcFUAtmobuAsSDKleHka1FG2riKCUYsU2ayK5zqGs7lYOpQ\"\n",
        ")"
      ],
      "metadata": {
        "id": "mhMYdd3RckCB"
      },
      "execution_count": null,
      "outputs": []
    },
    {
      "cell_type": "code",
      "source": [
        "client"
      ],
      "metadata": {
        "colab": {
          "base_uri": "https://localhost:8080/"
        },
        "id": "uL_DxRQzcyoY",
        "outputId": "f20c236b-7c1b-4505-cb29-c82241f07106"
      },
      "execution_count": null,
      "outputs": [
        {
          "output_type": "execute_result",
          "data": {
            "text/plain": [
              "<qdrant_client.qdrant_client.QdrantClient at 0x78fe63515720>"
            ]
          },
          "metadata": {},
          "execution_count": 32
        }
      ]
    },
    {
      "cell_type": "code",
      "source": [
        "from sentence_transformers import SentenceTransformer\n",
        "\n",
        "# Load the pre-trained Sentence-BERT model\n",
        "model = SentenceTransformer('all-MiniLM-L6-v2')"
      ],
      "metadata": {
        "colab": {
          "base_uri": "https://localhost:8080/"
        },
        "id": "EuQI750LkfO_",
        "outputId": "51de4e2d-63c1-481d-a480-20f3fe3b8d69"
      },
      "execution_count": null,
      "outputs": [
        {
          "output_type": "stream",
          "name": "stderr",
          "text": [
            "/usr/local/lib/python3.10/dist-packages/transformers/tokenization_utils_base.py:1601: FutureWarning: `clean_up_tokenization_spaces` was not set. It will be set to `True` by default. This behavior will be depracted in transformers v4.45, and will be then set to `False` by default. For more details check this issue: https://github.com/huggingface/transformers/issues/31884\n",
            "  warnings.warn(\n"
          ]
        }
      ]
    },
    {
      "cell_type": "code",
      "source": [
        "payloads = [\n",
        "    {\n",
        "        \"qa\": \"How to access and utilize the test reporting feature\",\n",
        "        \"ans\": \"To access the test reporting feature, navigate to the Reports section in the dashboard. You can filter reports by project, test case, or test execution date. Utilize graphical representations for better insights.\"\n",
        "    },\n",
        "    {\n",
        "        \"qa\": \"How to Execute a Test\",\n",
        "        \"ans\": \"To execute a test, select the test case from the test suite, choose the environment or device, and hit the 'Run' button. You can also schedule execution using the Test Scheduler.\"\n",
        "    },\n",
        "    {\n",
        "        \"qa\": \"How to Create a Test Suite\",\n",
        "        \"ans\": \"Go to the Test Suites section, click on 'Create New Suite', and add test cases by selecting them from the existing list. Assign a name and description to your suite.\"\n",
        "    },\n",
        "    {\n",
        "        \"qa\": \"How to Create a Test Case\",\n",
        "        \"ans\": \"Navigate to the Test Cases section, click on 'Add New', and fill out the required fields such as test name, description, steps, and expected outcomes.\"\n",
        "    },\n",
        "    {\n",
        "        \"qa\": \"How to Record a Test Case Using a Local Device\",\n",
        "        \"ans\": \"Connect your device via USB, navigate to the Test Recording section, and select 'Record with Local Device'. Start interacting with the app, and the steps will be captured.\"\n",
        "    },\n",
        "    {\n",
        "        \"qa\": \"How to Record a Test Case Using a Remote Device\",\n",
        "        \"ans\": \"In the Test Recording section, choose 'Remote Device'. Select a cloud service provider, and pick the device you want to record the test case on.\"\n",
        "    },\n",
        "    {\n",
        "        \"qa\": \"How Can We Add Integrations\",\n",
        "        \"ans\": \"Go to the Integrations tab in settings. Click 'Add Integration', choose the desired tool (e.g., Jira, Slack, or Jenkins), and follow the setup steps.\"\n",
        "    },\n",
        "    {\n",
        "        \"qa\": \"How to Record a Test Case Using a Cloud Device\",\n",
        "        \"ans\": \"Choose 'Cloud Device' under the recording options, select your preferred cloud provider, and pick a device for recording. Start interacting with the app to record the test steps.\"\n",
        "    },\n",
        "    {\n",
        "        \"qa\": \"How to Schedule Test Case Execution\",\n",
        "        \"ans\": \"In the 'Test Scheduler' section, click 'Schedule New Test'. Select the test cases, choose a time and date, and specify the device or environment for execution.\"\n",
        "    },\n",
        "    {\n",
        "        \"qa\": \"How to Create a Project\",\n",
        "        \"ans\": \"Navigate to the Projects section and click 'Create New Project'. Fill in the project name, description, and any relevant settings like testing environments.\"\n",
        "    },\n",
        "    {\n",
        "        \"qa\": \"How to access and utilize the test reporting features\",\n",
        "        \"ans\": \"Go to the 'Reports' section, filter by project, test suite, or date, and view detailed reports including pass/fail rates, execution times, and issue tracking.\"\n",
        "    },\n",
        "    {\n",
        "        \"qa\": \"How to Create a User\",\n",
        "        \"ans\": \"Go to the User Management section, click 'Add New User', enter their details, and assign a role (e.g., tester, developer, admin).\"\n",
        "    },\n",
        "    {\n",
        "        \"qa\": \"How to Create a Team\",\n",
        "        \"ans\": \"In the Team Management section, click 'Create New Team', name the team, and add users by selecting them from the available list.\"\n",
        "    },\n",
        "    {\n",
        "        \"qa\": \"What is a Test Suite?\",\n",
        "        \"ans\": \"A Test Suite is a collection of test cases that are grouped together based on functionality or feature. Suites help organize tests for batch execution.\"\n",
        "    },\n",
        "    {\n",
        "        \"qa\": \"What is a Test Plan?\",\n",
        "        \"ans\": \"A Test Plan outlines the scope, objectives, and resources needed for testing a project. It includes details on the test strategy, environment, and schedule.\"\n",
        "    },\n",
        "    {\n",
        "        \"qa\": \"What is a DeepLink?\",\n",
        "        \"ans\": \"A DeepLink is a URL or link that directly navigates to a specific screen or function within an app. It’s useful for testing specific flows and page navigation.\"\n",
        "    },\n",
        "    {\n",
        "        \"qa\": \"How do I enable Video recording for executions?\",\n",
        "        \"ans\": \"To enable video recording, go to the Execution Settings in your project, and toggle the 'Enable Video Recording' option.\"\n",
        "    },\n",
        "    {\n",
        "        \"qa\": \"What is a Page Object?\",\n",
        "        \"ans\": \"A Page Object is a design pattern in test automation where each page of the application is represented by a class, encapsulating page elements and actions.\"\n",
        "    },\n",
        "    {\n",
        "        \"qa\": \"What is Test History?\",\n",
        "        \"ans\": \"Test History is a log of all previous test executions, providing insights into past results, issues encountered, and changes over time.\"\n",
        "    },\n",
        "    {\n",
        "        \"qa\": \"What are the filters available on Test Cases?\",\n",
        "        \"ans\": \"You can filter test cases by status (pass/fail), priority, execution history, tags, and associated project or test suite.\"\n",
        "    },\n",
        "    {\n",
        "        \"qa\": \"What methods are supported in HTTP Master?\",\n",
        "        \"ans\": \"HTTP Master supports common HTTP methods such as GET, POST, PUT, DELETE, PATCH, and OPTIONS for API testing.\"\n",
        "    },\n",
        "    {\n",
        "        \"qa\": \"What is the significance/use of a Test Plan?\",\n",
        "        \"ans\": \"A Test Plan ensures the testing process is well-organized, setting expectations for scope, timelines, and objectives. It acts as a reference throughout the testing cycle.\"\n",
        "    }\n",
        "]"
      ],
      "metadata": {
        "id": "2CKvuicHlWto"
      },
      "execution_count": 48,
      "outputs": []
    },
    {
      "cell_type": "code",
      "source": [
        "vectors = model.encode([item['qa'] for item in payloads])"
      ],
      "metadata": {
        "id": "0biI35NsmJNa"
      },
      "execution_count": 49,
      "outputs": []
    },
    {
      "cell_type": "code",
      "source": [
        "client.recreate_collection(\n",
        "    collection_name=\"qapilot-chatbot\",  # Name of your collection\n",
        "    vectors_config={\n",
        "        \"size\": 384,  # Vector size based on your model (all-MiniLM-L6-v2 outputs 384-dimensional vectors)\n",
        "        \"distance\": \"Cosine\"  # You can use 'Cosine', 'Euclidean', or 'Dot' based on your retrieval approach\n",
        "    }\n",
        ")\n",
        "/\n",
        "print(\"Collection created!\")"
      ],
      "metadata": {
        "colab": {
          "base_uri": "https://localhost:8080/"
        },
        "id": "5Ly5jAgjntJ6",
        "outputId": "b3fce6cd-2317-4ea3-a5a2-b71db9f30520"
      },
      "execution_count": 50,
      "outputs": [
        {
          "output_type": "stream",
          "name": "stderr",
          "text": [
            "<ipython-input-50-9803871425f5>:1: DeprecationWarning: `recreate_collection` method is deprecated and will be removed in the future. Use `collection_exists` to check collection existence and `create_collection` instead.\n",
            "  client.recreate_collection(\n"
          ]
        },
        {
          "output_type": "stream",
          "name": "stdout",
          "text": [
            "Collection created!\n"
          ]
        }
      ]
    },
    {
      "cell_type": "code",
      "source": [
        "client.upsert(\n",
        "    collection_name=\"qapilot-chatbot\",  # Name your collection\n",
        "    points=[\n",
        "        {\n",
        "            \"id\": idx + 1,  # Unique ID for each point\n",
        "            \"vector\": vectors[idx],  # Corresponding vector for the question\n",
        "            \"payload\": payloads[idx]  # Store the QA pair as payload\n",
        "        }\n",
        "        for idx in range(len(payloads))\n",
        "    ]\n",
        ")\n",
        "print(\"Data successfully added to Qdrant!\")"
      ],
      "metadata": {
        "colab": {
          "base_uri": "https://localhost:8080/"
        },
        "id": "kA-wNMOznPxE",
        "outputId": "4bb74f48-52e7-48d0-ede5-87ec4e1f2062"
      },
      "execution_count": 51,
      "outputs": [
        {
          "output_type": "stream",
          "name": "stdout",
          "text": [
            "Data successfully added to Qdrant!\n"
          ]
        }
      ]
    },
    {
      "cell_type": "code",
      "source": [
        "user_query = \"how to create a test plan\"\n",
        "\n",
        "\n",
        "query_vector = model.encode(user_query)\n",
        "\n",
        "\n",
        "search_results = client.search(\n",
        "    collection_name=\"qapilot-chatbot\",\n",
        "    query_vector=query_vector,\n",
        "    limit=1\n",
        ")\n",
        "search_results"
      ],
      "metadata": {
        "colab": {
          "base_uri": "https://localhost:8080/"
        },
        "id": "p-tWXjlKnimd",
        "outputId": "a4fe47d5-1df6-45fc-9b9d-6186cc48cce0"
      },
      "execution_count": 54,
      "outputs": [
        {
          "output_type": "execute_result",
          "data": {
            "text/plain": [
              "[ScoredPoint(id=15, version=0, score=0.8282936, payload={'qa': 'What is a Test Plan?', 'ans': 'A Test Plan outlines the scope, objectives, and resources needed for testing a project. It includes details on the test strategy, environment, and schedule.'}, vector=None, shard_key=None, order_value=None)]"
            ]
          },
          "metadata": {},
          "execution_count": 54
        }
      ]
    },
    {
      "cell_type": "code",
      "source": [],
      "metadata": {
        "id": "_BoEHZgWoOUq"
      },
      "execution_count": null,
      "outputs": []
    }
  ]
}